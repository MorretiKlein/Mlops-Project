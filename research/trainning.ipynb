{
 "cells": [
  {
   "cell_type": "code",
   "execution_count": 1,
   "metadata": {},
   "outputs": [],
   "source": [
    "import os"
   ]
  },
  {
   "cell_type": "code",
   "execution_count": 2,
   "metadata": {},
   "outputs": [
    {
     "data": {
      "text/plain": [
       "'d:\\\\Project\\\\P\\\\Mlops-Project\\\\research'"
      ]
     },
     "execution_count": 2,
     "metadata": {},
     "output_type": "execute_result"
    }
   ],
   "source": [
    "%pwd"
   ]
  },
  {
   "cell_type": "code",
   "execution_count": 3,
   "metadata": {},
   "outputs": [],
   "source": [
    "os.chdir(\"../\")"
   ]
  },
  {
   "cell_type": "code",
   "execution_count": 4,
   "metadata": {},
   "outputs": [
    {
     "data": {
      "text/plain": [
       "'d:\\\\Project\\\\P\\\\Mlops-Project'"
      ]
     },
     "execution_count": 4,
     "metadata": {},
     "output_type": "execute_result"
    }
   ],
   "source": [
    "%pwd"
   ]
  },
  {
   "cell_type": "code",
   "execution_count": 6,
   "metadata": {},
   "outputs": [
    {
     "name": "stdout",
     "output_type": "stream",
     "text": [
      "WARNING:tensorflow:From c:\\tt\\envs\\ML_ops\\lib\\site-packages\\keras\\src\\losses.py:2976: The name tf.losses.sparse_softmax_cross_entropy is deprecated. Please use tf.compat.v1.losses.sparse_softmax_cross_entropy instead.\n",
      "\n"
     ]
    }
   ],
   "source": [
    "import tensorflow as tf"
   ]
  },
  {
   "cell_type": "code",
   "execution_count": 5,
   "metadata": {},
   "outputs": [
    {
     "data": {
      "text/html": [
       "<div>\n",
       "<style scoped>\n",
       "    .dataframe tbody tr th:only-of-type {\n",
       "        vertical-align: middle;\n",
       "    }\n",
       "\n",
       "    .dataframe tbody tr th {\n",
       "        vertical-align: top;\n",
       "    }\n",
       "\n",
       "    .dataframe thead th {\n",
       "        text-align: right;\n",
       "    }\n",
       "</style>\n",
       "<table border=\"1\" class=\"dataframe\">\n",
       "  <thead>\n",
       "    <tr style=\"text-align: right;\">\n",
       "      <th></th>\n",
       "      <th>ImageID</th>\n",
       "      <th>XMin</th>\n",
       "      <th>XMax</th>\n",
       "      <th>YMin</th>\n",
       "      <th>YMax</th>\n",
       "    </tr>\n",
       "  </thead>\n",
       "  <tbody>\n",
       "    <tr>\n",
       "      <th>0</th>\n",
       "      <td>c640a3584d1e4d71</td>\n",
       "      <td>0.514749</td>\n",
       "      <td>0.641593</td>\n",
       "      <td>0.800885</td>\n",
       "      <td>1.000000</td>\n",
       "    </tr>\n",
       "    <tr>\n",
       "      <th>1</th>\n",
       "      <td>d819685832a0e19b</td>\n",
       "      <td>0.429204</td>\n",
       "      <td>0.659292</td>\n",
       "      <td>0.449115</td>\n",
       "      <td>0.597345</td>\n",
       "    </tr>\n",
       "    <tr>\n",
       "      <th>2</th>\n",
       "      <td>c705061238b1fe30</td>\n",
       "      <td>0.317187</td>\n",
       "      <td>1.000000</td>\n",
       "      <td>0.325000</td>\n",
       "      <td>0.997917</td>\n",
       "    </tr>\n",
       "    <tr>\n",
       "      <th>3</th>\n",
       "      <td>18245b3e96479da4</td>\n",
       "      <td>0.830389</td>\n",
       "      <td>0.902827</td>\n",
       "      <td>0.385609</td>\n",
       "      <td>0.645756</td>\n",
       "    </tr>\n",
       "    <tr>\n",
       "      <th>4</th>\n",
       "      <td>02717d30304f4849</td>\n",
       "      <td>0.014062</td>\n",
       "      <td>0.045313</td>\n",
       "      <td>0.439583</td>\n",
       "      <td>0.537500</td>\n",
       "    </tr>\n",
       "  </tbody>\n",
       "</table>\n",
       "</div>"
      ],
      "text/plain": [
       "            ImageID      XMin      XMax      YMin      YMax\n",
       "0  c640a3584d1e4d71  0.514749  0.641593  0.800885  1.000000\n",
       "1  d819685832a0e19b  0.429204  0.659292  0.449115  0.597345\n",
       "2  c705061238b1fe30  0.317187  1.000000  0.325000  0.997917\n",
       "3  18245b3e96479da4  0.830389  0.902827  0.385609  0.645756\n",
       "4  02717d30304f4849  0.014062  0.045313  0.439583  0.537500"
      ]
     },
     "execution_count": 5,
     "metadata": {},
     "output_type": "execute_result"
    }
   ],
   "source": [
    "import pandas as pd\n",
    "data = pd.read_csv(\"artifacts/data_transformation/train.csv\")\n",
    "data.head()"
   ]
  },
  {
   "cell_type": "code",
   "execution_count": 55,
   "metadata": {},
   "outputs": [],
   "source": [
    "import pandas as pd\n",
    "import tensorflow as tf\n",
    "from tensorflow.keras.backend import std, mean\n",
    "from tensorflow.math import reduce_std, reduce_mean\n",
    "\n",
    "def _normalize(image_path, bbox):\n",
    "    img = tf.io.read_file(image_path)\n",
    "    img = tf.image.decode_jpeg(img, channels=3)\n",
    "    img = tf.image.convert_image_dtype(img, tf.float32)\n",
    "    # img = tf.image.resize(img, [460,])  # Resize as needed\n",
    "\n",
    "    bbox = tf.cast(bbox, dtype=tf.float32)\n",
    "    return img, bbox\n",
    "\n",
    "\n",
    "train_data = pd.read_csv(\"artifacts/data_transformation/train.csv\")  # assuming this is the correct path for train.csv\n",
    "train_image_paths = train_data[\"ImageID\"].apply(lambda x: \"artifacts/data_transformation/train/\" + x + \".jpg\").tolist()\n",
    "train_boxes = train_data[[\"XMin\", \"YMin\", \"XMax\", \"YMax\"]].values.tolist()\n",
    "\n",
    "\n",
    "valid_data = pd.read_csv(\"artifacts/data_transformation/test.csv\")\n",
    "valid_image_paths = valid_data[\"ImageID\"].apply(lambda x: \"artifacts/data_transformation/test/\" + x + \".jpg\").tolist()\n",
    "valid_boxes = valid_data[[\"XMin\", \"YMin\", \"XMax\", \"YMax\"]].values.tolist()\n",
    "\n",
    "train_dataset = tf.data.Dataset.from_tensor_slices((train_image_paths, train_boxes))\n",
    "train_dataset = train_dataset.map(_normalize, num_parallel_calls=tf.data.AUTOTUNE).batch(32)\n",
    "\n",
    "valid_dataset = tf.data.Dataset.from_tensor_slices((valid_image_paths, valid_boxes))\n",
    "valid_dataset = valid_dataset.map(_normalize, num_parallel_calls=tf.data.AUTOTUNE).batch(32)"
   ]
  },
  {
   "cell_type": "code",
   "execution_count": 4,
   "metadata": {},
   "outputs": [],
   "source": [
    "from dataclasses import dataclass\n",
    "from pathlib import Path\n",
    "\n",
    "@dataclass(frozen = True)\n",
    "class ModelTrainerConfig:\n",
    "    root_dir: Path\n",
    "    all_data: Path\n",
    "    image_train_data: Path\n",
    "    image_test_data: Path\n",
    "    model_name: str\n",
    "    "
   ]
  },
  {
   "cell_type": "code",
   "execution_count": 5,
   "metadata": {},
   "outputs": [],
   "source": [
    "from MLOps_project.constant import *\n",
    "from MLOps_project.utils.common import read_yaml, create_directories"
   ]
  },
  {
   "cell_type": "code",
   "execution_count": 6,
   "metadata": {},
   "outputs": [],
   "source": [
    "class ConfigurationManager:\n",
    "    def __init__(\n",
    "        self,\n",
    "        config_filepath = CONFIG_FILE_PATH,\n",
    "        params_filepath = PARAMS_FILE_PATH,\n",
    "        schema_filepath = SCHEMA_FILE_PATH):\n",
    "\n",
    "        self.config = read_yaml(config_filepath)\n",
    "        self.params = read_yaml(params_filepath)\n",
    "        self.schema = read_yaml(schema_filepath)\n",
    "\n",
    "        create_directories([self.config.artifacts_root])\n",
    "\n",
    "\n",
    "    def get_model_trainer_config(self) -> ModelTrainerConfig:\n",
    "        config = self.config.model_trainer\n",
    "        params = self.params.ElasticNet\n",
    "        schema =  self.schema.TARGET_COLUMN\n",
    "\n",
    "        create_directories([config.root_dir])\n",
    "\n",
    "        model_trainer_config = ModelTrainerConfig(\n",
    "            root_dir=config.root_dir,\n",
    "            all_data = config.all_data,\n",
    "            image_train_data = config.image_train_data,\n",
    "            image_test_data = config.image_test_data,\n",
    "            model_name = config.model_name\n",
    "        )\n",
    "\n",
    "        return model_trainer_config"
   ]
  },
  {
   "cell_type": "code",
   "execution_count": null,
   "metadata": {},
   "outputs": [],
   "source": [
    "from ultralytics import YOLO"
   ]
  },
  {
   "cell_type": "code",
   "execution_count": null,
   "metadata": {},
   "outputs": [],
   "source": [
    "class ModelTrainer:\n",
    "    def __init__(self, config: ModelTrainerConfig):\n",
    "        self.config = config\n",
    "\n",
    "    def create_yaml(self, path, train_folder, val_folder):\n",
    "        yaml_content = f\"\"\"\\\n",
    "                        # Path\n",
    "                        path: {path}\n",
    "                        train: {train_folder}\n",
    "                        val: {val_folder}\n",
    "\n",
    "                        # Classes\n",
    "                        nc: 1\n",
    "                        names: ['person']\n",
    "                        \"\"\"\n",
    "        with open('dataset.yaml', 'w') as file:\n",
    "            file.write(yaml_content)\n",
    "\n",
    "    def train(self):\n",
    "        self.create_yaml(path=self.config.root_dir, train_folder=self.config.image_train_data, val_folder=self.config.image_test_data)\n",
    "        model = YOLO('yolov5n.pt')\n",
    "        model.train(data=\"dataset.yaml\", epochs=30, batch=8)\n",
    "        \n"
   ]
  },
  {
   "cell_type": "code",
   "execution_count": null,
   "metadata": {},
   "outputs": [],
   "source": [
    "try:\n",
    "    config = ConfigurationManager()\n",
    "    model_trainer_config = config.get_model_trainer_config()\n",
    "    model_trainer_config = ModelTrainer(config=model_trainer_config)\n",
    "    model_trainer_config.train()\n",
    "except Exception as e:\n",
    "    raise e"
   ]
  }
 ],
 "metadata": {
  "kernelspec": {
   "display_name": "ML_ops",
   "language": "python",
   "name": "python3"
  },
  "language_info": {
   "codemirror_mode": {
    "name": "ipython",
    "version": 3
   },
   "file_extension": ".py",
   "mimetype": "text/x-python",
   "name": "python",
   "nbconvert_exporter": "python",
   "pygments_lexer": "ipython3",
   "version": "3.10.13"
  }
 },
 "nbformat": 4,
 "nbformat_minor": 2
}
