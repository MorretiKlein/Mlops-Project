{
 "cells": [
  {
   "cell_type": "code",
   "execution_count": 1,
   "metadata": {},
   "outputs": [],
   "source": [
    "import os"
   ]
  },
  {
   "cell_type": "code",
   "execution_count": 2,
   "metadata": {},
   "outputs": [
    {
     "data": {
      "text/plain": [
       "'d:\\\\Project\\\\P\\\\Mlops-Project\\\\research'"
      ]
     },
     "execution_count": 2,
     "metadata": {},
     "output_type": "execute_result"
    }
   ],
   "source": [
    "%pwd"
   ]
  },
  {
   "cell_type": "code",
   "execution_count": 3,
   "metadata": {},
   "outputs": [],
   "source": [
    "os.chdir(\"../\")"
   ]
  },
  {
   "cell_type": "code",
   "execution_count": 4,
   "metadata": {},
   "outputs": [
    {
     "data": {
      "text/plain": [
       "'d:\\\\Project\\\\P\\\\Mlops-Project'"
      ]
     },
     "execution_count": 4,
     "metadata": {},
     "output_type": "execute_result"
    }
   ],
   "source": [
    "%pwd"
   ]
  },
  {
   "cell_type": "code",
   "execution_count": 5,
   "metadata": {},
   "outputs": [],
   "source": [
    "from MLOps_project.constant import *\n",
    "from MLOps_project.utils.common import read_yaml, create_directories"
   ]
  },
  {
   "cell_type": "code",
   "execution_count": 6,
   "metadata": {},
   "outputs": [],
   "source": [
    "from dataclasses import dataclass\n",
    "from pathlib import Path\n",
    "\n",
    "@dataclass(frozen = True)\n",
    "class DataIngestionConfig: # class storage config of data ingestion\n",
    "    root_dir: Path\n",
    "    source_URL_label: str\n",
    "    local_data_file: Path\n",
    "    source_URL_for_image: Path\n",
    "    source_code_download: Path"
   ]
  },
  {
   "cell_type": "code",
   "execution_count": 7,
   "metadata": {},
   "outputs": [],
   "source": [
    "class ConfigurationManager: # manage: read and use files config\n",
    "    def __init__(\n",
    "        self,\n",
    "        config_filepath = CONFIG_FILE_PATH,\n",
    "        params_filepath = PARAMS_FILE_PATH,\n",
    "        schema_filepath = SCHEMA_FILE_PATH):\n",
    "\n",
    "        self.config = read_yaml(config_filepath)\n",
    "        self.params = read_yaml(params_filepath)\n",
    "        self.schema = read_yaml(schema_filepath)\n",
    "\n",
    "        create_directories([self.config.artifacts_root])\n",
    "        # create a root directory to storage data\n",
    "\n",
    "\n",
    "    \n",
    "    def get_data_ingestion_config(self) -> DataIngestionConfig:\n",
    "        config = self.config.data_ingestion\n",
    "\n",
    "        create_directories([config.root_dir])\n",
    "\n",
    "        data_ingestion_config = DataIngestionConfig(\n",
    "            root_dir=config.root_dir,\n",
    "            source_URL_label=config.source_URL_label,\n",
    "            local_data_file=config.local_data_file,\n",
    "            source_URL_for_image = config.source_URL_for_image,\n",
    "            source_code_download = config.source_code_download\n",
    "        )\n",
    "        # Helps get detailed configuration for data download.\n",
    "        return data_ingestion_config"
   ]
  },
  {
   "cell_type": "code",
   "execution_count": 8,
   "metadata": {},
   "outputs": [],
   "source": [
    "import os\n",
    "import time\n",
    "import urllib.request as request # use to download file from url\n",
    "import subprocess\n",
    "from MLOps_project import logger\n",
    "from MLOps_project.utils.common import get_size"
   ]
  },
  {
   "cell_type": "code",
   "execution_count": 13,
   "metadata": {},
   "outputs": [],
   "source": [
    "class DataIngestion: \n",
    "    def __init__(self, config: DataIngestionConfig):\n",
    "        self.config = config\n",
    "\n",
    "    def download_file(self):\n",
    "        if not os.path.exists(os.path.join(self.config.root_dir, \"label_root.csv\" )):\n",
    "            filename, headers = request.urlretrieve(\n",
    "                url = self.config.source_URL_label,\n",
    "                filename =os.path.join(self.config.root_dir, \"label_root.csv\" ))\n",
    "            logger.info(f\"{filename} download! with following info: \\n{headers}\")\n",
    "        \n",
    "        if not os.path.exists(os.path.join(self.config.root_dir, \"validation.lst\" )):\n",
    "            filename, headers = request.urlretrieve(\n",
    "                url = self.config.source_URL_for_image,\n",
    "                filename =os.path.join(self.config.root_dir, \"validation.lst\" ))\n",
    "            logger.info(f\"{filename} download! with following info: \\n{headers}\")\n",
    "\n",
    "        if not os.path.exists(os.path.join(self.config.root_dir, \"download.py\" )):\n",
    "            filename, headers = request.urlretrieve(\n",
    "                url = self.config.source_code_download,\n",
    "                filename =os.path.join(self.config.root_dir, \"download.py\" ))\n",
    "            logger.info(f\"{filename} download! with following info: \\n{headers}\")\n",
    "\n",
    "        #num_processes = 5 # số lượng tiến trình\n",
    "        download_folder = self.config.local_data_file\n",
    "\n",
    "        if not os.path.exists(download_folder):\n",
    "            os.makedirs(download_folder)\n",
    "\n",
    "        # Đường dẫn hoặc tên file danh sách hình ảnh\n",
    "        IMAGE_LIST_FILE = \"artifacts\\data_ingestion\\\\validation.lst\"\n",
    "\n",
    "        command = [\n",
    "            \"python\", \"artifacts\\data_ingestion\\download.py\",\n",
    "            IMAGE_LIST_FILE,\n",
    "            \"--download_folder=\" + download_folder,\n",
    "            \"--num_processes=5\"\n",
    "        ]\n",
    "\n",
    "        # Chạy command\n",
    "        print(subprocess.list2cmdline(command))\n",
    "        try:\n",
    "            subprocess.run(command, check=True)\n",
    "        except subprocess.CalledProcessError as e:\n",
    "            print(\"Error running the command:\", e)\n"
   ]
  },
  {
   "cell_type": "code",
   "execution_count": 14,
   "metadata": {},
   "outputs": [
    {
     "name": "stdout",
     "output_type": "stream",
     "text": [
      "[2023-12-18 17:10:37,882: INFO: common: yaml file: config\\config.yaml loaded successfully]\n",
      "[2023-12-18 17:10:37,884: INFO: common: yaml file: params.yaml loaded successfully]\n",
      "[2023-12-18 17:10:37,886: INFO: common: yaml file: schema.yaml loaded successfully]\n",
      "[2023-12-18 17:10:37,887: INFO: common: created directory at: artifacts]\n",
      "[2023-12-18 17:10:37,889: INFO: common: created directory at: artifacts/data_ingestion]\n",
      "python artifacts\\data_ingestion\\download.py artifacts\\data_ingestion\\validation.lst --download_folder=artifacts/data_ingestion/image --num_processes=5\n"
     ]
    }
   ],
   "source": [
    "try:\n",
    "    config = ConfigurationManager()\n",
    "    data_ingestion_config = config.get_data_ingestion_config()\n",
    "    data_ingestion = DataIngestion(config=data_ingestion_config)\n",
    "    data_ingestion.download_file()\n",
    "except Exception as e:\n",
    "    raise e"
   ]
  }
 ],
 "metadata": {
  "kernelspec": {
   "display_name": "ML_ops",
   "language": "python",
   "name": "python3"
  },
  "language_info": {
   "codemirror_mode": {
    "name": "ipython",
    "version": 3
   },
   "file_extension": ".py",
   "mimetype": "text/x-python",
   "name": "python",
   "nbconvert_exporter": "python",
   "pygments_lexer": "ipython3",
   "version": "3.10.13"
  }
 },
 "nbformat": 4,
 "nbformat_minor": 2
}
